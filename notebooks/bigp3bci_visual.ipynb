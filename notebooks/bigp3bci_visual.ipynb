{
 "cells": [
  {
   "cell_type": "markdown",
   "id": "0",
   "metadata": {},
   "source": [
    "# BigP3BCI Enhanced Visualization\n",
    "This notebook demonstrates a P300 pipeline with additional graphics."
   ]
  },
  {
   "cell_type": "markdown",
   "id": "1",
   "metadata": {},
   "source": [
    "## Setup\n",
    "Load packages and display versions."
   ]
  },
  {
   "cell_type": "code",
   "execution_count": null,
   "id": "2",
   "metadata": {},
   "outputs": [],
   "source": [
    "import os\n",
    "from pathlib import Path\n",
    "\n",
    "import matplotlib.pyplot as plt\n",
    "import mne\n",
    "import numpy as np\n",
    "import seaborn as sns\n",
    "from sklearn.discriminant_analysis import LinearDiscriminantAnalysis\n",
    "from sklearn.metrics import confusion_matrix\n",
    "from sklearn.model_selection import StratifiedKFold, cross_val_score\n",
    "\n",
    "print(\"MNE\", mne.__version__)"
   ]
  },
  {
   "cell_type": "markdown",
   "id": "3",
   "metadata": {},
   "source": [
    "## Data location\n",
    "Locate BigP3BCI files, falling back to synthetic data if absent."
   ]
  },
  {
   "cell_type": "code",
   "execution_count": null,
   "id": "4",
   "metadata": {},
   "outputs": [],
   "source": [
    "root = Path(os.getenv(\"NEURO_DATA_ROOT\", str(Path.home() / \"neuro-data\")))\n",
    "subject = root / \"bigP3BCI-data\" / \"StudyA\" / \"A_01\" / \"SE001\"\n",
    "train_path = subject / \"Train\" / \"CB\" / \"A_01_SE001_CB_Train01.edf\"\n",
    "test_path = subject / \"Test\" / \"CB\" / \"A_01_SE001_CB_Test06.edf\"\n",
    "use_synth = not (train_path.exists() and test_path.exists())\n",
    "if use_synth:\n",
    "    print(\"BigP3BCI files not found – using synthetic data.\")\n",
    "else:\n",
    "    print(\"Train file\", train_path)\n",
    "    print(\"Test file\", test_path)"
   ]
  },
  {
   "cell_type": "markdown",
   "id": "5",
   "metadata": {},
   "source": [
    "## Load raw EEG"
   ]
  },
  {
   "cell_type": "code",
   "execution_count": null,
   "id": "6",
   "metadata": {},
   "outputs": [],
   "source": [
    "if use_synth:\n",
    "    info = mne.create_info([\"Cz\", \"Pz\"], sfreq=256.0, ch_types=\"eeg\")\n",
    "    rng = np.random.default_rng(42)\n",
    "    data = rng.standard_normal((2, 256 * 60))\n",
    "    raw_train = mne.io.RawArray(data, info)\n",
    "    raw_test = raw_train.copy()\n",
    "    montage = mne.channels.make_standard_montage(\"standard_1020\")\n",
    "    raw_train.set_montage(montage)\n",
    "    raw_test.set_montage(montage)\n",
    "else:\n",
    "    raw_train = mne.io.read_raw_edf(train_path, preload=True, verbose=False)\n",
    "    raw_test = mne.io.read_raw_edf(test_path, preload=True, verbose=False)\n",
    "    rename_map = {\n",
    "        ch: ch.replace(\"EEG_\", \"\") for ch in raw_train.ch_names if ch.startswith(\"EEG_\")\n",
    "    }\n",
    "    raw_train.rename_channels(rename_map)\n",
    "    raw_test.rename_channels(rename_map)\n",
    "    montage = mne.channels.make_standard_montage(\"standard_1020\")\n",
    "    raw_train.set_montage(montage, on_missing=\"ignore\")\n",
    "    raw_test.set_montage(montage, on_missing=\"ignore\")"
   ]
  },
  {
   "cell_type": "markdown",
   "id": "7",
   "metadata": {},
   "source": [
    "## Extract stimulus events"
   ]
  },
  {
   "cell_type": "code",
   "execution_count": null,
   "id": "8",
   "metadata": {},
   "outputs": [],
   "source": [
    "if use_synth:\n",
    "    events = mne.make_fixed_length_events(raw_train, id=1, duration=1.0)\n",
    "    events[:, 2] = np.random.choice([0, 1], size=len(events))\n",
    "    train_events = events\n",
    "else:\n",
    "    stim_begin = raw_train.get_data(picks=[\"StimulusBegin\"])[0]\n",
    "    stim_type = raw_train.get_data(picks=[\"StimulusType\"])[0]\n",
    "    onsets = np.where(stim_begin > 0)[0]\n",
    "    train_events = np.c_[\n",
    "        onsets, np.zeros(len(onsets), int), stim_type[onsets].astype(int)\n",
    "    ]\n",
    "print(\"Train events\", np.unique(train_events[:, 2], return_counts=True))"
   ]
  },
  {
   "cell_type": "markdown",
   "id": "9",
   "metadata": {},
   "source": [
    "## Preprocessing\n",
    "Band-pass filter and resample."
   ]
  },
  {
   "cell_type": "code",
   "execution_count": null,
   "id": "10",
   "metadata": {},
   "outputs": [],
   "source": [
    "raw_train.filter(0.1, 30.0, fir_design=\"firwin\", verbose=False)\n",
    "raw_train.resample(128, verbose=False)"
   ]
  },
  {
   "cell_type": "markdown",
   "id": "11",
   "metadata": {},
   "source": [
    "## Epoch extraction"
   ]
  },
  {
   "cell_type": "code",
   "execution_count": null,
   "id": "12",
   "metadata": {},
   "outputs": [],
   "source": [
    "tmin, tmax = -0.2, 0.8\n",
    "event_id = dict(nontarget=0, target=1)\n",
    "train_epochs = mne.Epochs(\n",
    "    raw_train,\n",
    "    train_events,\n",
    "    event_id,\n",
    "    tmin,\n",
    "    tmax,\n",
    "    baseline=(tmin, 0),\n",
    "    preload=True,\n",
    "    verbose=False,\n",
    ")"
   ]
  },
  {
   "cell_type": "markdown",
   "id": "13",
   "metadata": {},
   "source": [
    "## ERP grand average"
   ]
  },
  {
   "cell_type": "code",
   "execution_count": null,
   "id": "14",
   "metadata": {},
   "outputs": [],
   "source": [
    "plt.close(\"all\")\n",
    "evokeds = {\n",
    "    \"Target\": train_epochs[\"target\"].average(),\n",
    "    \"Non-target\": train_epochs[\"nontarget\"].average(),\n",
    "}\n",
    "sns.set_context(\"talk\")\n",
    "fig = mne.viz.plot_compare_evokeds(evokeds, picks=\"Cz\", combine=\"mean\")[0]\n",
    "fig.suptitle(\"Grand average at Cz\")\n",
    "plt.show()"
   ]
  },
  {
   "cell_type": "markdown",
   "id": "15",
   "metadata": {},
   "source": [
    "## Classification"
   ]
  },
  {
   "cell_type": "code",
   "execution_count": null,
   "id": "16",
   "metadata": {},
   "outputs": [],
   "source": [
    "window = train_epochs.time_as_index([0.25, 0.45])\n",
    "X = train_epochs.get_data()[:, :, window[0] : window[1]].reshape(len(train_epochs), -1)\n",
    "y = train_epochs.events[:, 2]\n",
    "clf = LinearDiscriminantAnalysis()\n",
    "cv = StratifiedKFold(n_splits=10, shuffle=True, random_state=42)\n",
    "scores = cross_val_score(clf, X, y, cv=cv)\n",
    "print(\"Mean CV accuracy:\", scores.mean())\n",
    "clf.fit(X, y)"
   ]
  },
  {
   "cell_type": "markdown",
   "id": "17",
   "metadata": {},
   "source": [
    "## LDA coefficient scalp map"
   ]
  },
  {
   "cell_type": "code",
   "execution_count": null,
   "id": "18",
   "metadata": {},
   "outputs": [],
   "source": [
    "coefs = clf.coef_.reshape(train_epochs.info[\"nchan\"], -1).mean(axis=1)\n",
    "evoked = mne.EvokedArray(coefs[:, None], train_epochs.info, tmin=0)\n",
    "evoked.plot_topomap(times=0, scalings=1, time_format=\"LDA\", cmap=\"RdBu_r\")"
   ]
  },
  {
   "cell_type": "markdown",
   "id": "19",
   "metadata": {},
   "source": [
    "## Confusion matrix"
   ]
  },
  {
   "cell_type": "code",
   "execution_count": null,
   "id": "20",
   "metadata": {},
   "outputs": [],
   "source": [
    "y_pred = clf.predict(X)\n",
    "cm = confusion_matrix(y, y_pred)\n",
    "fig, ax = plt.subplots()\n",
    "sns.heatmap(cm, annot=True, fmt=\"d\", cmap=\"Blues\", ax=ax)\n",
    "ax.set_xlabel(\"Predicted\")\n",
    "ax.set_ylabel(\"True\")\n",
    "ax.set_xticklabels([\"Non-target\", \"Target\"])\n",
    "ax.set_yticklabels([\"Non-target\", \"Target\"], rotation=0)\n",
    "plt.show()"
   ]
  }
 ],
 "metadata": {},
 "nbformat": 4,
 "nbformat_minor": 5
}
