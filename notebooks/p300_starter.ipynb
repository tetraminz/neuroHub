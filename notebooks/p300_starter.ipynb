{
 "cells": [
  {
   "cell_type": "markdown",
   "id": "c84220b6",
   "metadata": {},
   "source": [
    "# P300 Starter Notebook\n",
    "\n",
    "This notebook demonstrates a minimal P300 analysis pipeline using synthetic data."
   ]
  },
  {
   "cell_type": "code",
   "execution_count": null,
   "id": "f528a089",
   "metadata": {
    "execution": {
     "iopub.execute_input": "2025-06-19T16:25:46.124213Z",
     "iopub.status.busy": "2025-06-19T16:25:46.124035Z",
     "iopub.status.idle": "2025-06-19T16:25:47.271301Z",
     "shell.execute_reply": "2025-06-19T16:25:47.270694Z"
    }
   },
   "outputs": [],
   "source": [
    "import matplotlib.pyplot as plt\n",
    "import mne\n",
    "import numpy as np\n",
    "from sklearn.discriminant_analysis import LinearDiscriminantAnalysis\n",
    "from sklearn.model_selection import StratifiedKFold, cross_val_score\n",
    "\n",
    "print(\"MNE\", mne.__version__)"
   ]
  },
  {
   "cell_type": "markdown",
   "id": "95187e3d",
   "metadata": {},
   "source": [
    "## Generate synthetic P300-like data\n",
    "We create 1 minute of 8-channel EEG sampled at 256 Hz with random noise. Target events have a simulated P300 response around 300 ms."
   ]
  },
  {
   "cell_type": "code",
   "execution_count": null,
   "id": "f3c3e943",
   "metadata": {
    "execution": {
     "iopub.execute_input": "2025-06-19T16:25:47.282066Z",
     "iopub.status.busy": "2025-06-19T16:25:47.281516Z",
     "iopub.status.idle": "2025-06-19T16:25:47.418325Z",
     "shell.execute_reply": "2025-06-19T16:25:47.417799Z"
    }
   },
   "outputs": [],
   "source": [
    "sfreq = 256\n",
    "ch_names = [\"Fz\", \"Cz\", \"Pz\", \"Oz\", \"P3\", \"P4\", \"C3\", \"C4\"]\n",
    "info = mne.create_info(ch_names=ch_names, sfreq=sfreq, ch_types=\"eeg\")\n",
    "duration = 60  # seconds\n",
    "n_samples = sfreq * duration\n",
    "np.random.seed(42)\n",
    "raw_data = 1e-6 * np.random.randn(len(ch_names), n_samples)  # V\n",
    "raw = mne.io.RawArray(raw_data, info)\n",
    "\n",
    "n_target = 20\n",
    "n_nontarget = 120\n",
    "all_times = np.random.choice(\n",
    "    np.arange(sfreq, n_samples - sfreq), n_target + n_nontarget, replace=False\n",
    ")\n",
    "event_id = dict(target=1, nontarget=2)\n",
    "labels = np.array([1] * n_target + [2] * n_nontarget)\n",
    "np.random.shuffle(labels)\n",
    "# ensure time order\n",
    "events = np.column_stack([all_times, np.zeros_like(all_times), labels])\n",
    "\n",
    "amplitudes = np.linspace(5e-6, 1e-6, len(ch_names))[:, None]\n",
    "width = int(0.1 * sfreq)\n",
    "gaussian = np.exp(-0.5 * ((np.arange(width) - width // 2) / (0.05 * sfreq)) ** 2)\n",
    "for ev_time, label in zip(all_times, labels):\n",
    "    if label == 1:\n",
    "        start = ev_time + int(0.3 * sfreq) - width // 2\n",
    "        if start < 0 or start + width > n_samples:\n",
    "            continue\n",
    "        raw._data[:, start : start + width] += amplitudes * gaussian"
   ]
  },
  {
   "cell_type": "markdown",
   "id": "321efc5a",
   "metadata": {},
   "source": [
    "## Preprocess\n",
    "Band-pass filter and down-sample to 128 Hz."
   ]
  },
  {
   "cell_type": "code",
   "execution_count": null,
   "id": "ed4851fa",
   "metadata": {
    "execution": {
     "iopub.execute_input": "2025-06-19T16:25:47.425809Z",
     "iopub.status.busy": "2025-06-19T16:25:47.425067Z",
     "iopub.status.idle": "2025-06-19T16:25:47.732684Z",
     "shell.execute_reply": "2025-06-19T16:25:47.729724Z"
    }
   },
   "outputs": [],
   "source": [
    "raw.filter(0.1, 30, fir_design=\"firwin\")\n",
    "raw.resample(128)"
   ]
  },
  {
   "cell_type": "markdown",
   "id": "2ec3fe70",
   "metadata": {},
   "source": [
    "## Epoching\n",
    "Create epochs around each event and baseline correct."
   ]
  },
  {
   "cell_type": "code",
   "execution_count": null,
   "id": "1ba5f896",
   "metadata": {
    "execution": {
     "iopub.execute_input": "2025-06-19T16:25:47.740939Z",
     "iopub.status.busy": "2025-06-19T16:25:47.740059Z",
     "iopub.status.idle": "2025-06-19T16:25:47.782966Z",
     "shell.execute_reply": "2025-06-19T16:25:47.782473Z"
    }
   },
   "outputs": [],
   "source": [
    "epochs = mne.Epochs(\n",
    "    raw, events, event_id, tmin=-0.2, tmax=0.8, baseline=(-0.2, 0), preload=True\n",
    ")"
   ]
  },
  {
   "cell_type": "markdown",
   "id": "25284ea9",
   "metadata": {},
   "source": [
    "## Extract LDA features (250–450 ms)"
   ]
  },
  {
   "cell_type": "code",
   "execution_count": null,
   "id": "64494571",
   "metadata": {
    "execution": {
     "iopub.execute_input": "2025-06-19T16:25:47.785252Z",
     "iopub.status.busy": "2025-06-19T16:25:47.784737Z",
     "iopub.status.idle": "2025-06-19T16:25:47.789005Z",
     "shell.execute_reply": "2025-06-19T16:25:47.788521Z"
    }
   },
   "outputs": [],
   "source": [
    "window = epochs.copy().crop(0.25, 0.45)\n",
    "X = window.get_data(picks=\"eeg\")\n",
    "X = X.reshape(len(X), -1)\n",
    "y = window.events[:, 2]"
   ]
  },
  {
   "cell_type": "markdown",
   "id": "ab6d5447",
   "metadata": {},
   "source": [
    "## Train and evaluate an LDA classifier"
   ]
  },
  {
   "cell_type": "code",
   "execution_count": null,
   "id": "e25c8b14",
   "metadata": {
    "execution": {
     "iopub.execute_input": "2025-06-19T16:25:47.790907Z",
     "iopub.status.busy": "2025-06-19T16:25:47.790429Z",
     "iopub.status.idle": "2025-06-19T16:25:47.816926Z",
     "shell.execute_reply": "2025-06-19T16:25:47.816351Z"
    }
   },
   "outputs": [],
   "source": [
    "cv = StratifiedKFold(5, shuffle=True, random_state=42)\n",
    "clf = LinearDiscriminantAnalysis()\n",
    "scores = cross_val_score(clf, X, y, cv=cv)\n",
    "print(f\"LDA mean accuracy: {scores.mean():.3f} ± {scores.std():.3f}\")"
   ]
  },
  {
   "cell_type": "markdown",
   "id": "c5a8089f",
   "metadata": {},
   "source": [
    "## Visualise average ERPs"
   ]
  },
  {
   "cell_type": "code",
   "execution_count": null,
   "id": "dffde969",
   "metadata": {
    "execution": {
     "iopub.execute_input": "2025-06-19T16:25:47.819528Z",
     "iopub.status.busy": "2025-06-19T16:25:47.819149Z",
     "iopub.status.idle": "2025-06-19T16:25:48.557355Z",
     "shell.execute_reply": "2025-06-19T16:25:48.556721Z"
    },
    "tags": [
     "hide-input"
    ]
   },
   "outputs": [],
   "source": [
    "evoked_target = epochs[\"target\"].average()\n",
    "evoked_nontarget = epochs[\"nontarget\"].average()\n",
    "evoked_target.plot(spatial_colors=True, show=False)\n",
    "evoked_nontarget.plot(spatial_colors=True, show=False)"
   ]
  }
 ],
 "metadata": {
  "language_info": {
   "codemirror_mode": {
    "name": "ipython",
    "version": 3
   },
   "file_extension": ".py",
   "mimetype": "text/x-python",
   "name": "python",
   "nbconvert_exporter": "python",
   "pygments_lexer": "ipython3",
   "version": "3.12.10"
  }
 },
 "nbformat": 4,
 "nbformat_minor": 5
}
