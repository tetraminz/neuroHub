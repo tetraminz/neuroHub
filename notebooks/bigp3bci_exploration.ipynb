{
 "cells": [
  {
   "cell_type": "markdown",
   "id": "b7c24bba",
   "metadata": {},
   "source": [
    "# BigP3BCI Exploration\n",
    "This notebook provides an overview of the dataset and basic filtering."
   ]
  },
  {
   "cell_type": "markdown",
   "id": "8c51d8e7",
   "metadata": {},
   "source": [
    "Detect dataset location and ensure the first EDF file is available."
   ]
  },
  {
   "cell_type": "code",
   "execution_count": null,
   "id": "cdbdb7a5",
   "metadata": {},
   "outputs": [],
   "source": [
    "\n",
    "from pathlib import Path\n",
    "import os\n",
    "\n",
    "base = Path(os.environ.get('NEURO_DATA_ROOT', Path.cwd() / 'data'))\n",
    "rel = Path('bigP3BCI-data/StudyA/A_01/SE001/Train/CB/A_01_SE001_CB_Train01.edf')\n",
    "raw_path = base / rel\n",
    "if not raw_path.exists():\n",
    "    alt = base / 'bigp3bci-an-open-diverse-and-machine-learning-ready-p300-based-brain-computer-interface-dataset-1.0.0' / rel\n",
    "    raw_path = alt\n",
    "if not raw_path.exists():\n",
    "    raise FileNotFoundError('Please run `dvc pull` to fetch the dataset')\n",
    "root = raw_path.parents[5]"
   ]
  },
  {
   "cell_type": "markdown",
   "id": "318e3473",
   "metadata": {},
   "source": [
    "## 1. Dataset structure\n",
    "Print directory tree and EDF counts per session."
   ]
  },
  {
   "cell_type": "code",
   "execution_count": null,
   "id": "6490421c",
   "metadata": {},
   "outputs": [],
   "source": [
    "\n",
    "from neurohub.io import list_dataset_structure\n",
    "import pandas as pd\n",
    "\n",
    "df = list_dataset_structure(root)\n",
    "print('Total files:', len(df))\n",
    "counts = df.groupby(['study','subject','session']).size().rename('n_files').reset_index()\n",
    "counts\n"
   ]
  },
  {
   "cell_type": "markdown",
   "id": "cd3d7aba",
   "metadata": {},
   "source": [
    "## 2. Channel metadata\n",
    "Table with channel name, type and original filter settings."
   ]
  },
  {
   "cell_type": "code",
   "execution_count": null,
   "id": "4fce2361",
   "metadata": {},
   "outputs": [],
   "source": [
    "\n",
    "from neurohub.io import load_bigp3bci\n",
    "import mne\n",
    "\n",
    "raw = load_bigp3bci(raw_path)\n",
    "ch_types = [mne.io.pick.channel_type(raw.info, idx) for idx in range(len(raw.ch_names))]\n",
    "meta = pd.DataFrame({'name': raw.ch_names, 'type': ch_types})\n",
    "meta['highpass'] = raw.info['highpass']\n",
    "meta['lowpass'] = raw.info['lowpass']\n",
    "meta.head()\n"
   ]
  },
  {
   "cell_type": "markdown",
   "id": "8dd4423a",
   "metadata": {},
   "source": [
    "## 3. Event overview\n",
    "Distribution of target vs non-target and inter-flash intervals."
   ]
  },
  {
   "cell_type": "code",
   "execution_count": null,
   "id": "ed67bb2a",
   "metadata": {},
   "outputs": [],
   "source": [
    "\n",
    "import matplotlib.pyplot as plt\n",
    "import numpy as np\n",
    "\n",
    "# Смотрим статистику событий: таргет / нетаргет\n",
    "anns = raw.annotations\n",
    "ev_types = anns.description\n",
    "onsets = anns.onset\n",
    "intervals = np.diff(onsets)\n",
    "fig, axes = plt.subplots(1, 2, figsize=(10,4))\n",
    "(pd.Series(ev_types).value_counts().plot.bar(ax=axes[0], color='0.6'))\n",
    "axes[0].set_title('StimulusType count')\n",
    "axes[0].set_ylabel('n')\n",
    "axes[1].hist(intervals, bins=20, color='0.6')\n",
    "axes[1].set_title('Inter-flash interval (s)')\n",
    "fig.tight_layout()\n"
   ]
  },
  {
   "cell_type": "markdown",
   "id": "d5c2704c",
   "metadata": {},
   "source": [
    "## 4. Band-pass filter demo\n",
    "Apply 0.1--30 Hz filter and show frequency response."
   ]
  },
  {
   "cell_type": "code",
   "execution_count": null,
   "id": "3ccf87dc",
   "metadata": {},
   "outputs": [],
   "source": [
    "\n",
    "from neurohub.preproc import apply_bandpass, plot_filter_response\n",
    "\n",
    "fig = plot_filter_response(0.1, 30.0, raw.info['sfreq'])\n",
    "fig\n"
   ]
  },
  {
   "cell_type": "code",
   "execution_count": null,
   "id": "542f42ef",
   "metadata": {},
   "outputs": [],
   "source": [
    "\n",
    "# Демонстрируем фильтр 0.1-30 Гц и его влияние на сигнал\n",
    "raw_filt = raw.copy()\n",
    "apply_bandpass(raw_filt)\n",
    "\n",
    "ch = 'Cz' if 'Cz' in raw.ch_names else raw.ch_names[0]\n",
    "idx = raw.ch_names.index(ch)\n",
    "\n",
    "sig = raw.get_data(picks=[idx])[0]\n",
    "fsig = raw_filt.get_data(picks=[idx])[0]\n",
    "t = raw.times\n",
    "\n",
    "import matplotlib.pyplot as plt\n",
    "fig, axes = plt.subplots(1,2, figsize=(10,3), sharey=True)\n",
    "axes[0].plot(t[:raw.info['sfreq']], sig[:raw.info['sfreq']]*1e6)\n",
    "axes[0].set_title('Unfiltered')\n",
    "axes[0].set_xlabel('Time (s)')\n",
    "axes[0].set_ylabel('uV')\n",
    "axes[1].plot(t[:raw.info['sfreq']], fsig[:raw.info['sfreq']]*1e6)\n",
    "axes[1].set_title('Filtered')\n",
    "axes[1].set_xlabel('Time (s)')\n",
    "fig.tight_layout()\n"
   ]
  },
  {
   "cell_type": "markdown",
   "id": "13c016d5",
   "metadata": {},
   "source": [
    "## 5. Power spectrum\n",
    "Average PSD up to 40 Hz and mark channels with zero/inf power."
   ]
  },
  {
   "cell_type": "code",
   "execution_count": null,
   "id": "9a424c2e",
   "metadata": {},
   "outputs": [],
   "source": [
    "\n",
    "psd = raw_filt.compute_psd(fmax=40)\n",
    "avg = psd.get_data().mean(axis=1)\n",
    "bad = ~np.isfinite(avg) | (avg == 0)\n",
    "fig, ax = plt.subplots()\n",
    "ax.plot(psd.freqs, psd.get_data().T, color='0.7')\n",
    "ax.set_xlabel('Frequency (Hz)')\n",
    "ax.set_ylabel('Power ($uV^2/Hz$)')\n",
    "ax.set_title('PSD up to 40 Hz')\n",
    "for i, b in enumerate(bad):\n",
    "    if b:\n",
    "        ax.plot(psd.freqs, psd.get_data()[i], color='r')\n",
    "fig.tight_layout()\n"
   ]
  },
  {
   "cell_type": "markdown",
   "id": "5cc7778a",
   "metadata": {},
   "source": [
    "## Key takeaways\n",
    "- BigP3BCI files are organised by study/subject/session.\n",
    "- Channels store original filter hints in the header.\n",
    "- Events allow computing flash statistics.\n",
    "- Band-pass 0.1--30 Hz removes slow drift and high noise."
   ]
  }
 ],
 "metadata": {},
 "nbformat": 4,
 "nbformat_minor": 5
}
